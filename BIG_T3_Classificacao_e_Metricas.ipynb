{
  "nbformat": 4,
  "nbformat_minor": 0,
  "metadata": {
    "kernelspec": {
      "display_name": "Python 3",
      "language": "python",
      "name": "python3"
    },
    "language_info": {
      "codemirror_mode": {
        "name": "ipython",
        "version": 3
      },
      "file_extension": ".py",
      "mimetype": "text/x-python",
      "name": "python",
      "nbconvert_exporter": "python",
      "pygments_lexer": "ipython3",
      "version": "3.7.4"
    },
    "colab": {
      "name": "BIG_T3_Classificacao_e_Metricas.ipynb",
      "provenance": [],
      "collapsed_sections": [],
      "toc_visible": true,
      "include_colab_link": true
    }
  },
  "cells": [
    {
      "cell_type": "markdown",
      "metadata": {
        "id": "view-in-github",
        "colab_type": "text"
      },
      "source": [
        "<a href=\"https://colab.research.google.com/github/Rogerio-mack/BIG_DATA_Analytics_Mineracao_e_Analise_de_Dados/blob/main/BIG_T3_Classificacao_e_Metricas.ipynb\" target=\"_parent\"><img src=\"https://colab.research.google.com/assets/colab-badge.svg\" alt=\"Open In Colab\"/></a>"
      ]
    },
    {
      "cell_type": "markdown",
      "metadata": {
        "id": "J3LMBfpeHTwb"
      },
      "source": [
        "<head>\n",
        "  <meta name=\"author\" content=\"Rogério de Oliveira\">\n",
        "  <meta institution=\"author\" content=\"Universidade Presbiteriana Mackenzie\">\n",
        "</head>\n",
        "\n",
        "<img src=\"http://meusite.mackenzie.br/rogerio/mackenzie_logo/UPM.2_horizontal_vermelho.jpg\" width=300, align=\"right\">\n",
        "<!-- <h1 align=left><font size = 6, style=\"color:rgb(200,0,0)\"> optional title </font></h1> -->\n"
      ]
    },
    {
      "cell_type": "markdown",
      "metadata": {
        "id": "zQX8WQPeHTwc"
      },
      "source": [
        "# **3. Classificação e Métricas**\n",
        "---\n",
        "\n",
        "Nesta trilha você vai aprender:\n",
        "\n",
        "* O esquema geral de modelos de aprendizado com a biblioteca `scikit-learn` \n",
        "* O que é o Dilema  Viés-Variância e como empregar Conjuntos de Treinamento e Teste\n",
        "* Outras Métricas de Classificação\n",
        " "
      ]
    },
    {
      "cell_type": "markdown",
      "metadata": {
        "id": "zH-kFjI8TIUe"
      },
      "source": [
        "Vamos retomar os problemas de aprendizado supervisionado, de regressão e classificação, para entender de modo geral como podemos empregar esses modelos com a biblioteca `scikit-learn`. Você vai aprender também como podemos avaliar mais adequadamente o desempenho desses modelos empregando conjuntos separados de treinamento e teste, e verificando outras métricas importantes."
      ]
    },
    {
      "cell_type": "code",
      "metadata": {
        "id": "xyywcuI7p1kG"
      },
      "source": [
        "import numpy as np\n",
        "import pandas as pd\n",
        "import matplotlib.pyplot as plt\n",
        "%matplotlib inline\n",
        "from matplotlib.lines import Line2D\n",
        "import seaborn as sns"
      ],
      "execution_count": null,
      "outputs": []
    },
    {
      "cell_type": "markdown",
      "metadata": {
        "id": "q5XLiJBwyK6b"
      },
      "source": [
        "# Classificando *Moons* ou Empréstimos\n",
        "\n",
        "Vamos começar classificando um conjunto aleatório de dados que denominaremos *Moons*. Cada um dos 100 pontos, *moons*, possui 2 atributos e recebe uma classe $1$ ou $0$."
      ]
    },
    {
      "cell_type": "code",
      "metadata": {
        "colab": {
          "base_uri": "https://localhost:8080/",
          "height": 400
        },
        "id": "O0F_lkwP3qSK",
        "outputId": "d04f91b3-c602-4247-9e1b-2bc009106f8f"
      },
      "source": [
        "from sklearn.datasets import make_moons\n",
        "cmap_data = plt.cm.coolwarm \n",
        "\n",
        "X, y = make_moons(n_samples=100, noise=0.25, random_state=1234)\n",
        "\n",
        "df = pd.DataFrame({'x1':X[:, 0], 'x2':X[:, 1], 'y':y})\n",
        "\n",
        "plt.scatter(df.x1, df.x2, c=df.y, cmap=cmap_data, alpha=0.8)\n",
        "plt.title('Moons Set',weight='bold',fontsize=14)\n",
        "plt.xlabel(\"x1\")\n",
        "plt.ylabel(\"x2\")\n",
        "\n",
        "custom_lines = [Line2D([0], [0], color=cmap_data(0.), lw=6),\n",
        "                Line2D([0], [0], color=cmap_data(1.), lw=6)]\n",
        "plt.legend(custom_lines, ['One', 'Zero'], loc='upper right',title='Moons')\n",
        "\n",
        "plt.show()\n",
        "\n",
        "print(df.head())"
      ],
      "execution_count": null,
      "outputs": [
        {
          "output_type": "display_data",
          "data": {
            "text/plain": [
              "<Figure size 432x288 with 1 Axes>"
            ],
            "image/png": "[encoded data removed]"
          },
          "metadata": {
            "needs_background": "light"
          }
        },
        {
          "output_type": "stream",
          "name": "stdout",
          "text": [
            "         x1        x2  y\n",
            "0 -0.763251  0.577354  0\n",
            "1 -0.391942  1.395641  0\n",
            "2  1.324561 -0.492319  1\n",
            "3  0.271295 -0.082532  1\n",
            "4  2.253887  0.420281  1\n"
          ]
        }
      ]
    },
    {
      "cell_type": "markdown",
      "metadata": {
        "id": "3xyRGSTtB0_a"
      },
      "source": [
        "Talvez você considere esse problema um problema pouco interessante, afinal estamos apenas gerando dados aleatórios. Esse exemplo de *brinquedo*, entretanto, já traz os elementos essencias que precisamos saber para criar classificadores supervisionados e poderíamos  igualmente ter uma base com dados de empréstimos, com idade e valor dos empréstimos tomados pelos clientes, classificados entre empréstimos pagos ou inadimplentes (*default*) para prever concessões de novos empréstimos. "
      ]
    },
    {
      "cell_type": "code",
      "metadata": {
        "colab": {
          "base_uri": "https://localhost:8080/",
          "height": 400
        },
        "id": "nHhoi5KDy4dG",
        "outputId": "fc02017b-4c53-4a98-dbe6-96344711822d"
      },
      "source": [
        "from sklearn.datasets import make_moons\n",
        "cmap_data = plt.cm.PiYG\n",
        "\n",
        "X, y = make_moons(n_samples=100, noise=0.25, random_state=1234)\n",
        "\n",
        "df_loans = pd.DataFrame({'age':X[:, 0], 'loan':X[:, 1], 'default':y})\n",
        "\n",
        "df_loans.age = df_loans.age + 50 + df_loans.age*10\n",
        "df_loans.loan = df_loans.loan + 3000 + df_loans.loan*3000\n",
        "\n",
        "plt.scatter(df_loans.age, df_loans.loan, c=df_loans.default, cmap=cmap_data, alpha=0.8)\n",
        "plt.title('Loans',weight='bold',fontsize=14)\n",
        "plt.xlabel(\"Age\")\n",
        "plt.ylabel(\"Loan\")\n",
        "\n",
        "custom_lines = [Line2D([0], [0], color=cmap_data(0.), lw=6),\n",
        "                Line2D([0], [0], color=cmap_data(1.), lw=6)]\n",
        "plt.legend(custom_lines, ['Yes', 'No'], loc='upper right',title='Default')\n",
        "\n",
        "plt.show()\n",
        "\n",
        "print(df_loans.head())"
      ],
      "execution_count": null,
      "outputs": [
        {
          "output_type": "display_data",
          "data": {
            "text/plain": [
              "<Figure size 432x288 with 1 Axes>"
            ],
            "image/png": "[encoded data removed]"
          },
          "metadata": {
            "needs_background": "light"
          }
        },
        {
          "output_type": "stream",
          "name": "stdout",
          "text": [
            "         age         loan  default\n",
            "0  41.604235  4732.639984        0\n",
            "1  45.688635  7188.319998        0\n",
            "2  64.570169  1522.549822        1\n",
            "3  52.984240  2752.321406        1\n",
            "4  74.792752  4261.263330        1\n"
          ]
        }
      ]
    },
    {
      "cell_type": "markdown",
      "metadata": {
        "id": "JB2L1I8QDpkh"
      },
      "source": [
        "Vamos então rever como podemos empregar o classificador logístico do `scikit-learn` entendo cada um dos passos que poderão, depois, ser empregados para outros algoritmos supervisionados."
      ]
    },
    {
      "cell_type": "markdown",
      "metadata": {
        "id": "VzVtHSD0GHjx"
      },
      "source": [
        "# Aprendizado Supervisionado: Classificação com o SciKit-Learn"
      ]
    },
    {
      "cell_type": "markdown",
      "metadata": {
        "id": "p9AUvHhmoh_9"
      },
      "source": [
        "\n",
        "\n",
        "## Import dos Estimadores\n",
        "\n",
        "Cada algoritmo de aprendizado na API  do scikit-learn é exposto como  objeto chamado de *estimador*. Por exemplo, você viu que para a regressão logística o estimador foi o `from sklearn.linear_model import LogisticRegression` e há também um estimador regressão linear, `sklearn.linear_model.LinearRegression`, embora tenhamos preferido empregar o modelo linear do pacote `statsmodels` na aula anterior. "
      ]
    },
    {
      "cell_type": "code",
      "metadata": {
        "id": "xTTA4-S7pRKd"
      },
      "source": [
        "from sklearn.linear_model import LogisticRegression \n"
      ],
      "execution_count": null,
      "outputs": []
    },
    {
      "cell_type": "markdown",
      "metadata": {
        "id": "LlgRTk-6pqGF"
      },
      "source": [
        "## Instanciando e Definindo os Parâmetros\n",
        "\n",
        "Os parâmetros do modelo podem ser definidos quando eles instanciados, por exemplo:"
      ]
    },
    {
      "cell_type": "code",
      "metadata": {
        "colab": {
          "base_uri": "https://localhost:8080/"
        },
        "id": "m1Dfkh_hqP0X",
        "outputId": "c9e22ccb-d86e-4812-b92e-5708057f2789"
      },
      "source": [
        "clf = LogisticRegression(max_iter=1000)\n",
        "print(clf)"
      ],
      "execution_count": null,
      "outputs": [
        {
          "output_type": "stream",
          "name": "stdout",
          "text": [
            "LogisticRegression(max_iter=1000)\n"
          ]
        }
      ]
    },
    {
      "cell_type": "markdown",
      "metadata": {
        "id": "Uw6UhLbxEGZJ"
      },
      "source": [
        "E empregamos o nome `clf` arbitrariamente apenas para designar nosso classificador."
      ]
    },
    {
      "cell_type": "markdown",
      "metadata": {
        "id": "E7uHnFK9rHBP"
      },
      "source": [
        "## Ajustando os Parâmetros do Modelo \n",
        "\n",
        "Os parâmetros do modelo são em seguida ajustados aos dados com a função `fit()` o que é feito em geral através de um otimizador (`solver`)."
      ]
    },
    {
      "cell_type": "code",
      "metadata": {
        "colab": {
          "base_uri": "https://localhost:8080/"
        },
        "id": "hy4RL3gGyOyn",
        "outputId": "4918acac-733f-4e4e-be82-ff93e90a10e8"
      },
      "source": [
        "# clf.fit(df[['x1','x2']], df.y)\n",
        "# ou\n",
        "\n",
        "X = df[['x1','x2']]\n",
        "y = df.y\n",
        "\n",
        "clf.fit(X,y)\n",
        "\n",
        "print( clf.coef_, clf.intercept_)"
      ],
      "execution_count": null,
      "outputs": [
        {
          "output_type": "stream",
          "name": "stdout",
          "text": [
            "[[ 1.21523438 -2.60803724]] [0.12484869]\n"
          ]
        }
      ]
    },
    {
      "cell_type": "markdown",
      "metadata": {
        "id": "lsPIr80aEU8p"
      },
      "source": [
        "Os valores `coef_` e `clf.intercept_` são os parâmetros estimados, o que poderá variar de acordo com o modelo aplicado."
      ]
    },
    {
      "cell_type": "markdown",
      "metadata": {
        "id": "D_Nu16Z20Izz"
      },
      "source": [
        "## Predição \n",
        "\n",
        "O método `predict()` fornece então a predição de dados com base nos parâmetros estimados do modelo.  "
      ]
    },
    {
      "cell_type": "code",
      "metadata": {
        "colab": {
          "base_uri": "https://localhost:8080/"
        },
        "id": "kxjR32nD0Pdo",
        "outputId": "1eab6741-505b-451f-ad69-07f34682a048"
      },
      "source": [
        "# clf.predict(df[['x1','x2']])\n",
        "# ou \n",
        "clf.predict(X)"
      ],
      "execution_count": null,
      "outputs": [
        {
          "output_type": "execute_result",
          "data": {
            "text/plain": [
              "array([0, 0, 1, 1, 1, 1, 1, 0, 0, 0, 0, 1, 1, 1, 0, 1, 1, 1, 1, 1, 0, 0,\n",
              "       0, 1, 1, 1, 1, 1, 1, 0, 1, 1, 0, 1, 1, 1, 0, 0, 0, 1, 0, 0, 1, 1,\n",
              "       0, 0, 0, 0, 0, 0, 0, 0, 0, 0, 1, 0, 1, 1, 1, 0, 0, 0, 1, 0, 0, 0,\n",
              "       1, 0, 1, 0, 0, 1, 1, 1, 0, 1, 1, 0, 0, 1, 0, 1, 1, 1, 1, 1, 1, 1,\n",
              "       0, 0, 0, 0, 0, 0, 0, 1, 0, 0, 1, 0])"
            ]
          },
          "metadata": {},
          "execution_count": 115
        }
      ]
    },
    {
      "cell_type": "markdown",
      "metadata": {
        "id": "QZVeRAHoEjJQ"
      },
      "source": [
        "Ainda existem outros preditores úteis que retornam a probabilidade ou o log da probabilidade de cada classe, o que é mais útil em se tratando de modelos multiclasse."
      ]
    },
    {
      "cell_type": "code",
      "metadata": {
        "colab": {
          "base_uri": "https://localhost:8080/"
        },
        "id": "AI9SZm5IEiRn",
        "outputId": "f736800f-5bba-41bc-d1fe-41840f8c3ad5"
      },
      "source": [
        "clf.predict_proba(X)[0:10]"
      ],
      "execution_count": null,
      "outputs": [
        {
          "output_type": "execute_result",
          "data": {
            "text/plain": [
              "array([[0.90957378, 0.09042622],\n",
              "       [0.98186015, 0.01813985],\n",
              "       [0.04659762, 0.95340238],\n",
              "       [0.33854573, 0.66145427],\n",
              "       [0.14582354, 0.85417646],\n",
              "       [0.14251362, 0.85748638],\n",
              "       [0.03145696, 0.96854304],\n",
              "       [0.91387591, 0.08612409],\n",
              "       [0.96036923, 0.03963077],\n",
              "       [0.87472292, 0.12527708]])"
            ]
          },
          "metadata": {},
          "execution_count": 116
        }
      ]
    },
    {
      "cell_type": "code",
      "metadata": {
        "colab": {
          "base_uri": "https://localhost:8080/"
        },
        "id": "EifaKz5tEtNd",
        "outputId": "e536253b-2e23-42f4-9e66-2bc27e15777b"
      },
      "source": [
        "clf.predict_log_proba(X)[0:10]"
      ],
      "execution_count": null,
      "outputs": [
        {
          "output_type": "execute_result",
          "data": {
            "text/plain": [
              "array([[-0.09477916, -2.40322103],\n",
              "       [-0.01830639, -4.00964435],\n",
              "       [-3.06620578, -0.04771824],\n",
              "       [-1.08309611, -0.41331442],\n",
              "       [-1.925358  , -0.15761748],\n",
              "       [-1.94831768, -0.15374999],\n",
              "       [-3.45913493, -0.03196236],\n",
              "       [-0.09006048, -2.45196614],\n",
              "       [-0.04043746, -3.22814934],\n",
              "       [-0.13384811, -2.07722732]])"
            ]
          },
          "metadata": {},
          "execution_count": 117
        }
      ]
    },
    {
      "cell_type": "markdown",
      "metadata": {
        "id": "9PZmucG0tPtT"
      },
      "source": [
        "## Score do Modelo\n",
        "\n",
        "Por último podemos medir a eficiência do nosso modelo, diretamente ou ainda a partir do `score()`. "
      ]
    },
    {
      "cell_type": "code",
      "metadata": {
        "colab": {
          "base_uri": "https://localhost:8080/"
        },
        "id": "WbloX5Ts0VEv",
        "outputId": "17ab3559-c75f-4473-fe8b-e005dbb3fcec"
      },
      "source": [
        "# clf.score(df[['x1','x2']], df.y)\n",
        "# ou\n",
        "\n",
        "clf.score(X,y)"
      ],
      "execution_count": null,
      "outputs": [
        {
          "output_type": "execute_result",
          "data": {
            "text/plain": [
              "0.87"
            ]
          },
          "metadata": {},
          "execution_count": 118
        }
      ]
    },
    {
      "cell_type": "markdown",
      "metadata": {
        "id": "6A4Rmj-lFVtw"
      },
      "source": [
        "Aqui o score $0.87$, como você já viu, corresponde à acuracidade do modelo sobre o conjunto `X`. Você vai aprender mais sobre isso logo adiante.\n",
        "\n",
        "Podemos ainda, no caso desse problema bastante simples, visualizar os erros e acertos do modelo o que, em geral, não será possível com dados com muitas dimensões e instâncias."
      ]
    },
    {
      "cell_type": "code",
      "metadata": {
        "colab": {
          "base_uri": "https://localhost:8080/",
          "height": 296
        },
        "id": "xgETQRLfwWdH",
        "outputId": "42bbc827-1540-45f9-ed91-4c27be5a71f8"
      },
      "source": [
        "cmap_data = plt.cm.coolwarm \n",
        "\n",
        "y_pred = clf.predict(X)\n",
        "\n",
        "plt.scatter(X.x1, X.x2, c=y, cmap=cmap_data, alpha=0.8)\n",
        "plt.scatter(X.x1, X.x2, c=y_pred, s=250,cmap=cmap_data, alpha=0.4)\n",
        "\n",
        "plt.scatter(X[y_pred != y].x1, X[y_pred != y].x2, color='y', s=350, alpha=1, label='wrong predictions')\n",
        "plt.scatter(X[y_pred != y].x1, X[y_pred != y].x2, c=y[y_pred != y], cmap=cmap_data, alpha=0.8)\n",
        "plt.title('Moons Predictions',weight='bold',fontsize=14)\n",
        "plt.xlabel(\"x1\")\n",
        "plt.ylabel(\"x2\")\n",
        "\n",
        "custom_lines = [Line2D([0], [0], color=cmap_data(0.), lw=6),\n",
        "                Line2D([0], [0], color=cmap_data(1.), lw=6),\n",
        "                Line2D([0], [0], color='y', lw=6)]\n",
        "plt.legend(custom_lines, ['One', 'Zero', 'Error'], loc='upper right',title='Moons')\n",
        "\n",
        "plt.show()\n",
        "\n"
      ],
      "execution_count": null,
      "outputs": [
        {
          "output_type": "display_data",
          "data": {
            "text/plain": [
              "<Figure size 432x288 with 1 Axes>"
            ],
            "image/png": "[encoded data removed]"
          },
          "metadata": {
            "needs_background": "light"
          }
        }
      ]
    },
    {
      "cell_type": "markdown",
      "metadata": {
        "id": "Qd7aBe_fw1ZS"
      },
      "source": [
        "E podemos ainda verificar a *fronteira de decisão* do estimador."
      ]
    },
    {
      "cell_type": "code",
      "metadata": {
        "colab": {
          "base_uri": "https://localhost:8080/",
          "height": 351
        },
        "id": "2QpqyqkifHXf",
        "outputId": "79ab15eb-0866-4c8e-e487-8e3c04e8d496"
      },
      "source": [
        "x_min, x_max = X['x1'].min() - .5, X['x1'].max() + .5\n",
        "y_min, y_max = X['x2'].min() - .5, X['x2'].max() + .5\n",
        "xx, yy = np.meshgrid(np.arange(x_min, x_max, 0.2),\n",
        "                     np.arange(y_min, y_max, 0.2))\n",
        "\n",
        "if hasattr(clf, \"decision_function\"):\n",
        "  Z = clf.decision_function(np.c_[xx.ravel(), yy.ravel()])\n",
        "else:\n",
        "  Z = clf.predict_proba(np.c_[xx.ravel(), yy.ravel()])[:, 1]\n",
        "\n",
        "Z = Z.reshape(xx.shape)\n",
        "plt.contourf(xx, yy, Z, cmap=cmap_data, alpha=0.8)  \n",
        "plt.scatter(X['x1'], X['x2'], c=y, cmap=cmap_data, alpha=0.8)\n",
        "plt.title('Moons Predictions',weight='bold',fontsize=14)\n",
        "plt.xlabel(\"x1\")\n",
        "plt.ylabel(\"x2\")\n",
        "\n",
        "custom_lines = [Line2D([0], [0], color=cmap_data(0.), lw=6),\n",
        "                Line2D([0], [0], color=cmap_data(1.), lw=6)]\n",
        "\n",
        "plt.legend(custom_lines, ['One', 'Zero'], loc='upper right',title='Moons')\n",
        "\n",
        "plt.show()"
      ],
      "execution_count": null,
      "outputs": [
        {
          "output_type": "stream",
          "name": "stderr",
          "text": [
            "/usr/local/lib/python3.7/dist-packages/sklearn/base.py:451: UserWarning: X does not have valid feature names, but LogisticRegression was fitted with feature names\n",
            "  \"X does not have valid feature names, but\"\n"
          ]
        },
        {
          "output_type": "display_data",
          "data": {
            "text/plain": [
              "<Figure size 432x288 with 1 Axes>"
            ],
            "image/png": "[encoded data removed]"
          },
          "metadata": {
            "needs_background": "light"
          }
        }
      ]
    },
    {
      "cell_type": "markdown",
      "metadata": {
        "id": "Aqf8A7m0GXiR"
      },
      "source": [
        "# Aprendizado Supervisionado: Regressão Linear com o SciKit-Learn\n",
        "\n",
        "O exemplo abaixo mostra como empregar um estimador de regressão linear e, como você poderá notar, os passos são basicamente os mesmos: \n",
        "\n",
        "1. Import do estimador\n",
        "2. Preparação dos dados `X` e `y` do estimador (*variáveis preditoras e objetivo*)\n",
        "3. Instanciação e configuração do estimador\n",
        "4. Ajuste do modelo (*treinamento* ou estimativa dos parâmetros)\n",
        "5. Predição\n",
        "6. Obtenção de Métricas e Avaliação do Modelo\n",
        "\n"
      ]
    },
    {
      "cell_type": "code",
      "metadata": {
        "colab": {
          "base_uri": "https://localhost:8080/",
          "height": 405
        },
        "id": "XcyfhR4bsAfm",
        "outputId": "442aab44-e5be-45fa-dc97-3383c121b52d"
      },
      "source": [
        "from scipy.stats import norm\n",
        "\n",
        "x = np.arange(0, 100)\n",
        "y = 2*x + 3 + norm.rvs(loc=0, scale=50, size=100, random_state=1234)\n",
        "\n",
        "plt.scatter(x=x,y=y,s=80,alpha=0.7)\n",
        "plt.title('Dados', fontsize=14, weight='bold')\n",
        "plt.xlabel('$x$', fontsize=16)\n",
        "plt.ylabel('$y$', fontsize=16)\n",
        "plt.show()\n",
        "\n",
        "print(df.head())"
      ],
      "execution_count": null,
      "outputs": [
        {
          "output_type": "display_data",
          "data": {
            "text/plain": [
              "<Figure size 432x288 with 1 Axes>"
            ],
            "image/png": "[encoded data removed]"
          },
          "metadata": {
            "needs_background": "light"
          }
        },
        {
          "output_type": "stream",
          "name": "stdout",
          "text": [
            "         x1        x2  y\n",
            "0 -0.763251  0.577354  0\n",
            "1 -0.391942  1.395641  0\n",
            "2  1.324561 -0.492319  1\n",
            "3  0.271295 -0.082532  1\n",
            "4  2.253887  0.420281  1\n"
          ]
        }
      ]
    },
    {
      "cell_type": "markdown",
      "metadata": {
        "id": "i7MWOmE_HqTQ"
      },
      "source": [
        "## 1. Import do estimador\n",
        "\n"
      ]
    },
    {
      "cell_type": "code",
      "metadata": {
        "id": "D2RJ14nXr8B1"
      },
      "source": [
        "from sklearn.linear_model import LinearRegression "
      ],
      "execution_count": null,
      "outputs": []
    },
    {
      "cell_type": "markdown",
      "metadata": {
        "id": "7ZujB3izH6kh"
      },
      "source": [
        "## 2. Preparação dos dados `X` e `y` do estimador (*variáveis preditoras e objetivo*)\n",
        "\n",
        "Essa etapa, dependendo dos dados, pode envolver diversas tarefas, como normalização, hot encode, separação de conjuntos de treinamento e teste que você verá mais adiante etc. e, normalmente antece a operação de instanciar o modelo pois os dados poderão ser aplicados a diferentes estimadores."
      ]
    },
    {
      "cell_type": "code",
      "metadata": {
        "id": "c-ktSD9rICAp"
      },
      "source": [
        "X = x.reshape(-1, 1)\n",
        "y = y.reshape(-1, 1)"
      ],
      "execution_count": null,
      "outputs": []
    },
    {
      "cell_type": "markdown",
      "metadata": {
        "id": "SG5xryWWHwCf"
      },
      "source": [
        "## 3. Instanciação e configuração do estimador"
      ]
    },
    {
      "cell_type": "code",
      "metadata": {
        "colab": {
          "base_uri": "https://localhost:8080/"
        },
        "id": "3XKHxGXWqDX2",
        "outputId": "75d69368-e828-44df-f349-5dcee83f087a"
      },
      "source": [
        "lm = LinearRegression()\n",
        "print(lm)"
      ],
      "execution_count": null,
      "outputs": [
        {
          "output_type": "stream",
          "name": "stdout",
          "text": [
            "LinearRegression()\n"
          ]
        }
      ]
    },
    {
      "cell_type": "markdown",
      "metadata": {
        "id": "cJ4ZNl6fH9SR"
      },
      "source": [
        "## 4. Ajuste do modelo (*treinamento* ou estimativa dos parâmetros)"
      ]
    },
    {
      "cell_type": "code",
      "metadata": {
        "colab": {
          "base_uri": "https://localhost:8080/"
        },
        "id": "ItEH8y2EyFlL",
        "outputId": "a5e0d4ed-3157-4741-ecf4-607c65359a65"
      },
      "source": [
        "lm.fit(X,y)\n",
        "\n",
        "print(lm.coef_, lm.intercept_)"
      ],
      "execution_count": null,
      "outputs": [
        {
          "output_type": "stream",
          "name": "stdout",
          "text": [
            "[[1.96520459]] [6.4779872]\n"
          ]
        }
      ]
    },
    {
      "cell_type": "markdown",
      "metadata": {
        "id": "auLRu-A2IJwZ"
      },
      "source": [
        "## 5. Predição\n"
      ]
    },
    {
      "cell_type": "code",
      "metadata": {
        "colab": {
          "base_uri": "https://localhost:8080/"
        },
        "id": "P90X5xgX0flF",
        "outputId": "53e6e893-24fd-4c99-d4dc-dd2ec51b9268"
      },
      "source": [
        "lm.predict(X)[0:10]"
      ],
      "execution_count": null,
      "outputs": [
        {
          "output_type": "execute_result",
          "data": {
            "text/plain": [
              "array([[ 6.4779872 ],\n",
              "       [ 8.44319178],\n",
              "       [10.40839637],\n",
              "       [12.37360095],\n",
              "       [14.33880554],\n",
              "       [16.30401012],\n",
              "       [18.26921471],\n",
              "       [20.23441929],\n",
              "       [22.19962388],\n",
              "       [24.16482846]])"
            ]
          },
          "metadata": {},
          "execution_count": 126
        }
      ]
    },
    {
      "cell_type": "markdown",
      "metadata": {
        "id": "v6n696D3INeg"
      },
      "source": [
        "## 6. Obtenção de Métricas e Avaliação do Modelo"
      ]
    },
    {
      "cell_type": "code",
      "metadata": {
        "colab": {
          "base_uri": "https://localhost:8080/"
        },
        "id": "H28PqKmm0lhb",
        "outputId": "fdbc596a-5843-48b6-8fb7-528480d584b9"
      },
      "source": [
        "lm.score(x.reshape(-1, 1) ,y.reshape(-1, 1))"
      ],
      "execution_count": null,
      "outputs": [
        {
          "output_type": "execute_result",
          "data": {
            "text/plain": [
              "0.565013962458061"
            ]
          },
          "metadata": {},
          "execution_count": 127
        }
      ]
    },
    {
      "cell_type": "markdown",
      "metadata": {
        "id": "uXSLVQkhITyh"
      },
      "source": [
        "E, novamente, no caso desse problema simples, podemos visualizar a adequação dos dados ao modelo."
      ]
    },
    {
      "cell_type": "code",
      "metadata": {
        "colab": {
          "base_uri": "https://localhost:8080/",
          "height": 301
        },
        "id": "4e5-Pq09uEkt",
        "outputId": "18db809f-3652-4da9-cbae-f785d14728f7"
      },
      "source": [
        "y_pred = lm.predict(X)\n",
        "\n",
        "plt.scatter(x=x,y=y.reshape(1, -1)[0],s=80,alpha=0.7)\n",
        "plt.plot(x,y_pred.reshape(1, -1)[0],color=cmap_data(1.),lw=3,linestyle='dashed')\n",
        "plt.title('Predição do Modelo', fontsize=14, weight='bold')\n",
        "plt.xlabel('$x$', fontsize=16)\n",
        "plt.ylabel('$y$', fontsize=16)\n",
        "plt.show()"
      ],
      "execution_count": null,
      "outputs": [
        {
          "output_type": "display_data",
          "data": {
            "text/plain": [
              "<Figure size 432x288 with 1 Axes>"
            ],
            "image/png": "[encoded data removed]"
          },
          "metadata": {
            "needs_background": "light"
          }
        }
      ]
    },
    {
      "cell_type": "markdown",
      "metadata": {
        "id": "SeiTWGTQRmUt"
      },
      "source": [
        "# Dilema Viés-Variância\n",
        "\n",
        "Agora que sabemos como construir modelos Supervisionados para estimar valores e classes de dados, vamos nos deter um pouco sobre como avaliar melhor esses modelos. Afinal, parece bastante simples construir esses modelos, mas construir bons modelos pode ser de fato uma tarefa bastante difícil. \n",
        "\n",
        "Vamos começar entendo o que é conhecido como **Dilema Viés-Variância** (ou *Bias–variance tradeoff*). \n",
        "\n",
        "A capacidade de um modelo de capturar a verdadeira relação entre as variáveis preditoras e a variável objetivo é o que chamamos de viés (*bias*). Um alto erro de viés significa que o modelo não se ajusta aos dados e que, portanto, não consegue representar os dados. No limite ele não está aprendendo nada. É o que chamamos de **subajuste do modelo**, ou *underfitting*. Essa, é claro, é uma situação que não queremos. \n",
        "\n",
        "Entretanto, ao tentarmos reduzir o erro de viés dos dados podemos nos deparar com um outro problema. Com um viés muito pequeno o modelo poder ficar tão ajustado aos dados de treinamento que falha ao tentar prever novos casos que não faziam parte do conjunto de treinamento. Neste caso, o modelo captura toda a variância dos dados. Você pode entender que o modelo passa a ser muito sensível a diferentes conjuntos de treinamento e erra ao *generalizar* novos casos. Isso é o que chamamos de **subreajuste do modelo**, ou *overfitting*.  \n",
        "\n",
        "O dilema está, portanto, em obter o ponto de equilíbrio entre o subajuste e sobreajuste dos dados. \n",
        "\n"
      ]
    },
    {
      "cell_type": "markdown",
      "metadata": {
        "id": "cTH_YV0KZRqb"
      },
      "source": [
        "## Exemplo em Modelos de Regressão\n",
        "\n",
        "O underfitting/overfitting pode ocorrer tanto em modelos de regressão como em modelos de classificação. O exemplo a seguir demonstra o problema de underfitting/overfitting para um caso de regressão. "
      ]
    },
    {
      "cell_type": "code",
      "metadata": {
        "colab": {
          "base_uri": "https://localhost:8080/",
          "height": 365
        },
        "id": "rjSm8Y7Su8xM",
        "outputId": "e31e15b9-b8f1-431d-d286-28b38021a412"
      },
      "source": [
        "# fonte: https://scikit-learn.org/stable/auto_examples/model_selection/plot_underfitting_overfitting.html#sphx-glr-auto-examples-model-selection-plot-underfitting-overfitting-py\n",
        "print(__doc__)\n",
        "\n",
        "import numpy as np\n",
        "import matplotlib.pyplot as plt\n",
        "from sklearn.pipeline import Pipeline\n",
        "from sklearn.preprocessing import PolynomialFeatures\n",
        "from sklearn.linear_model import LinearRegression\n",
        "from sklearn.model_selection import cross_val_score\n",
        "\n",
        "\n",
        "def true_fun(X):\n",
        "    return np.cos(1.5 * np.pi * X)\n",
        "\n",
        "np.random.seed(0)\n",
        "\n",
        "n_samples = 30\n",
        "degrees = [1, 4, 15]\n",
        "\n",
        "X = np.sort(np.random.rand(n_samples))\n",
        "y = true_fun(X) + np.random.randn(n_samples) * 0.1\n",
        "\n",
        "plt.figure(figsize=(14, 5))\n",
        "for i in range(len(degrees)):\n",
        "    ax = plt.subplot(1, len(degrees), i + 1)\n",
        "    plt.setp(ax, xticks=(), yticks=())\n",
        "\n",
        "    polynomial_features = PolynomialFeatures(degree=degrees[i],\n",
        "                                             include_bias=False)\n",
        "    linear_regression = LinearRegression()\n",
        "    pipeline = Pipeline([(\"polynomial_features\", polynomial_features),\n",
        "                         (\"linear_regression\", linear_regression)])\n",
        "    pipeline.fit(X[:, np.newaxis], y)\n",
        "\n",
        "    # Evaluate the models using crossvalidation\n",
        "    scores = cross_val_score(pipeline, X[:, np.newaxis], y,\n",
        "                             scoring=\"neg_mean_squared_error\", cv=10)\n",
        "\n",
        "    X_test = np.linspace(0, 1, 100)\n",
        "    plt.plot(X_test, pipeline.predict(X_test[:, np.newaxis]), label=\"Model\")\n",
        "    plt.plot(X_test, true_fun(X_test), label=\"True function\")\n",
        "    plt.scatter(X, y, edgecolor='b', s=20, label=\"Samples\")\n",
        "    plt.xlabel(\"x\")\n",
        "    plt.ylabel(\"y\")\n",
        "    plt.xlim((0, 1))\n",
        "    plt.ylim((-2, 2))\n",
        "    plt.legend(loc=\"best\")\n",
        "    plt.title(\"Degree {}\\nMSE = {:.2e}(+/- {:.2e})\".format(\n",
        "        degrees[i], -scores.mean(), scores.std()))\n",
        "plt.show()"
      ],
      "execution_count": null,
      "outputs": [
        {
          "output_type": "stream",
          "name": "stdout",
          "text": [
            "Automatically created module for IPython interactive environment\n"
          ]
        },
        {
          "output_type": "display_data",
          "data": {
            "text/plain": [
              "<Figure size 1008x360 with 3 Axes>"
            ],
            "image/png": "[encoded data removed]"
          },
          "metadata": {}
        }
      ]
    },
    {
      "cell_type": "markdown",
      "metadata": {
        "id": "ZWPh66r3WBKy"
      },
      "source": [
        "A função que queremos aproxima é uma parte da função cosseno (linha laranja) e foram empregados modelos polinomiais de diferentes graus para aproximar a função (regressão). A função linear (polinômio com grau 1, linha azul) claramente é insuficiente para ajustar os dados de treinamento (underfitting). Um polinômio de grau 15 entretanto ajusta a maior parte dos pontos de dados do conjunto de treinamento, mas aprende desse modo todo o *ruído* ou variância dos dados, o que leva a um modelo (linha azul) que claramente falhará na predição de valores de novos casos (overfitting). O polinômio de grau 4, por outro lado, parece aproximar a função verdadeira quase perfeitamente. \n",
        "\n"
      ]
    },
    {
      "cell_type": "markdown",
      "metadata": {
        "id": "wno9Z6gwZAIM"
      },
      "source": [
        "## Exemplo em Modelos de Classificação\n",
        "\n",
        "Isso pode igualmente ocorrer em modelos de Classificação."
      ]
    },
    {
      "cell_type": "markdown",
      "metadata": {
        "id": "az72ZKISRb8f"
      },
      "source": [
        "![imagem](https://github.com/Rogerio-mack/BIG_DATA_Analytics_Mineracao_e_Analise_de_Dados/blob/main/figuras/SobreESubAjuste.png?raw=true)\n",
        "\n",
        "\n",
        "<small>\n",
        "<b>\n",
        "Exemplos de underfitting e overfitting (Produzido com https://ml-playground.com/#)"
      ]
    },
    {
      "cell_type": "markdown",
      "metadata": {
        "id": "CCAeI8YYZfOd"
      },
      "source": [
        "Na figura acima o primeiro classificador é simplesmente um separador linear e erra ao classificar vários pontos de dados do conjunto de treinamento - é um modelo muito simples que não representa um modelo da classificação dos dados. Por outro lado, o terceiro modelo, captura toda a variância do conjunto de treinamento e classifica todas as instâncias corretamente, o que certamente, levará a falha de classificação de novos casos. "
      ]
    },
    {
      "cell_type": "markdown",
      "metadata": {
        "id": "Xx6rLqN2cDLn"
      },
      "source": [
        "![imagem](https://github.com/Rogerio-mack/BIG_DATA_Analytics_Mineracao_e_Analise_de_Dados/blob/main/figuras/SobreESubAjuste2.png?raw=true)"
      ]
    },
    {
      "cell_type": "markdown",
      "metadata": {
        "id": "n7H7y46jcHoO"
      },
      "source": [
        "> Isso pode ficar mais claro se você pensar do seguinte modo. Olhe os pontos grandes em vermelho da figura acima. Considere que eles seriam novos casos que você deve classificar. São novos casos, e você pode pensar no nosso exemplo de empréstimos, você não sabe antecipadamente se o cliente irá ou não pagar o empréstimo, mas você deseja definir a classe mais provável com base nos casos anteriores. Em quais classificações você apostaria? Certamente a classificação do meio. O primeiro é um modelo insuficiente para capturar todo o viés dos dados, e o terceiro, erra ao capturar todo o viés dos dados não generalizando suficientemente novos casos."
      ]
    },
    {
      "cell_type": "markdown",
      "metadata": {
        "id": "jUFXus8geFPQ"
      },
      "source": [
        "# Conjuntos de Treinamento e Teste\n",
        "\n",
        "Aprender ou treinar parâmetros de um modelo de predição e testá-lo com os mesmos dados é um erro de método. É como dar uma prova para avaliar o conhecimento de um aluno somente com exercícios que já foram dados previamente na sala da aula.  Seria um modelo que apenas repete os rótulos das amostras podendo ser pefeito nesses dados, mas sem grande utilidade para predição de novos casos (sobreajuste). \n",
        "\n",
        "Para evitar o sobreajuste, temos que definir dois conjuntos diferentes de dados a partir dos dados originais, um conjunto de Treinamento e um conjunto de Teste:\n",
        "\n",
        "* O *conjunto de treinamento* `X_train`, `y_train` será a parte dos dados que empregada para o treinamento dos parâmetros do modelo \n",
        "\n",
        "* O *conjunto de teste* `X_test`, `y_test` será a parte dos dados que empregada para avaliar o modelo preditivo ajustado\n",
        "\n",
        "Essa divisão do conjunto original de dados deve ser aleatória (*por que?*) e pode ser obtida com o `scikit-learn` empregando-se a função `train_test_split()`. Seguiremos daqui em diante somente analisando modelos de classificação.\n",
        "\n",
        "Vamos então aplicar essa abordagem mais correta ao nosso conjunto de dados *Moons*. \n",
        "\n",
        "\n"
      ]
    },
    {
      "cell_type": "markdown",
      "metadata": {
        "id": "_A3S9dM33-4S"
      },
      "source": [
        "![imagem](https://github.com/Rogerio-mack/BIG_DATA_Analytics_Mineracao_e_Analise_de_Dados/blob/main/figuras/TrainTest.png?raw=true)"
      ]
    },
    {
      "cell_type": "markdown",
      "metadata": {
        "id": "vgNDvNdZZs5g"
      },
      "source": [
        "### Recriando os dados de *Moons*"
      ]
    },
    {
      "cell_type": "code",
      "metadata": {
        "id": "LW9ynt1AkUp8"
      },
      "source": [
        "X, y = make_moons(n_samples=100, noise=0.25, random_state=1234)\n",
        "df = pd.DataFrame({'x1':X[:, 0], 'x2':X[:, 1], 'y':y})"
      ],
      "execution_count": null,
      "outputs": []
    },
    {
      "cell_type": "markdown",
      "metadata": {
        "id": "9v4QXwIaZxhZ"
      },
      "source": [
        "### Modelo *sem* a Separação dos Conjuntos de Treinamento e Teste\n",
        "\n",
        "Este é um  modelo básico, mas com uma abordagem metodologicamente pois, ao empregar o mesmo conjunto para treinamento e a medida de desempenho do modelo pode levar ao sobre ajuste do modelo, e consequente erro de generalização.  "
      ]
    },
    {
      "cell_type": "code",
      "metadata": {
        "colab": {
          "base_uri": "https://localhost:8080/"
        },
        "id": "NN_ZkFhbj5Lr",
        "outputId": "0be47b22-222b-4898-b1f3-5279a4682647"
      },
      "source": [
        "from sklearn.linear_model import LogisticRegression \n",
        "\n",
        "X = df[['x1','x2']]\n",
        "y = df.y\n",
        "\n",
        "clf = LogisticRegression(max_iter=1000)\n",
        "\n",
        "clf.fit(X,y)\n",
        "\n",
        "y_pred = clf.predict(X)\n",
        "\n",
        "print( y_pred[0:10], '...' )\n",
        "print( clf.score(X,y) )\n"
      ],
      "execution_count": null,
      "outputs": [
        {
          "output_type": "stream",
          "name": "stdout",
          "text": [
            "[0 0 1 1 1 1 1 0 0 0] ...\n",
            "0.87\n"
          ]
        }
      ]
    },
    {
      "cell_type": "markdown",
      "metadata": {
        "id": "AV_UXeJjZ5L_"
      },
      "source": [
        "### Modelo *com* a Separação dos Conjuntos de Treinamento e Teste\n",
        "\n",
        "Aqui a  abordagem correta, emprega conjunto diferentes treinamento e teste escolhidos aleatoriamente sobre os dados originais."
      ]
    },
    {
      "cell_type": "code",
      "metadata": {
        "colab": {
          "base_uri": "https://localhost:8080/"
        },
        "id": "NvLnBcGXXxFp",
        "outputId": "a1c3af45-ae69-4bdc-c0e7-894c08b2967b"
      },
      "source": [
        "from sklearn.linear_model import LogisticRegression \n",
        "from sklearn.model_selection import train_test_split\n",
        "\n",
        "X = df[['x1','x2']]\n",
        "y = df.y\n",
        "\n",
        "X_train, X_test, y_train, y_test = train_test_split(X, y, stratify=y, test_size=0.3, random_state=123)\n",
        "\n",
        "clf = LogisticRegression(max_iter=1000)\n",
        "\n",
        "clf.fit(X_train,y_train)\n",
        "\n",
        "y_pred = clf.predict(X_test)\n",
        "\n",
        "print( y_pred[0:10], '...' )\n",
        "print( clf.score(X,y) )\n"
      ],
      "execution_count": null,
      "outputs": [
        {
          "output_type": "stream",
          "name": "stdout",
          "text": [
            "[0 1 0 0 0 0 1 1 0 1] ...\n",
            "0.86\n"
          ]
        }
      ]
    },
    {
      "cell_type": "markdown",
      "metadata": {
        "id": "qMmhiuI15cxE"
      },
      "source": [
        "O parâmetro `stratify=y` indica que os conjuntos de treinamento e teste manterão a mesma proporção dos valores do atributo objetivo `y`. O parâmetros `test_size=0.3` indica o percentual (30%) dos dados que será empregado para teste. Esse valor varia, em geral, de 20-30% dos dados. Por fim, o pârametro `random_state=123` é para a reprodutibilidade dos resultados.\n",
        "\n"
      ]
    },
    {
      "cell_type": "markdown",
      "metadata": {
        "id": "-McHy8E8dgxR"
      },
      "source": [
        "Abaixo, a inspeção visual, mostrando apenas 2 erros de classificação no conjunto de teste."
      ]
    },
    {
      "cell_type": "code",
      "metadata": {
        "colab": {
          "base_uri": "https://localhost:8080/"
        },
        "id": "JRgff7gRdsEw",
        "outputId": "c5ae3013-1b84-4133-d264-cc798e32943b"
      },
      "source": [
        "sum(y_test != y_pred)"
      ],
      "execution_count": null,
      "outputs": [
        {
          "output_type": "execute_result",
          "data": {
            "text/plain": [
              "2"
            ]
          },
          "metadata": {},
          "execution_count": 133
        }
      ]
    },
    {
      "cell_type": "code",
      "metadata": {
        "colab": {
          "base_uri": "https://localhost:8080/",
          "height": 296
        },
        "id": "tCowXL07j5Ls",
        "outputId": "fafdec07-05c4-4723-ca01-e7876fd35cba"
      },
      "source": [
        "cmap_data = plt.cm.coolwarm \n",
        "\n",
        "plt.scatter(X.x1, X.x2, c=y, cmap=cmap_data, alpha=0.4) # todos dados\n",
        "plt.scatter(X_test.x1, X_test.x2, c=y_pred, s=250,cmap=cmap_data, alpha=0.6) # somente dados de teste\n",
        "\n",
        "plt.scatter(X_test[y_pred != y_test].x1, X_test[y_pred != y_test].x2, color='y', s=350, alpha=1, label='wrong predictions')\n",
        "plt.scatter(X_test[y_pred != y_test].x1, X_test[y_pred != y_test].x2, c=y_test[y_pred != y_test], cmap=cmap_data, alpha=0.8)\n",
        "plt.title('Moons Predictions',weight='bold',fontsize=14)\n",
        "plt.xlabel(\"x1\")\n",
        "plt.ylabel(\"x2\")\n",
        "\n",
        "custom_lines = [Line2D([0], [0], color=cmap_data(0.), lw=6),\n",
        "                Line2D([0], [0], color=cmap_data(1.), lw=6),\n",
        "                Line2D([0], [0], color='y', lw=6)]\n",
        "plt.legend(custom_lines, ['One', 'Zero', 'Error'], loc='upper right',title='Moons')\n",
        "\n",
        "plt.show()\n",
        "\n"
      ],
      "execution_count": null,
      "outputs": [
        {
          "output_type": "display_data",
          "data": {
            "text/plain": [
              "<Figure size 432x288 with 1 Axes>"
            ],
            "image/png": "[encoded data removed]"
          },
          "metadata": {
            "needs_background": "light"
          }
        }
      ]
    },
    {
      "cell_type": "markdown",
      "metadata": {
        "id": "jAYKaGirkhpN"
      },
      "source": [
        "# CASO: 10 year risk of coronary heart disease CHD\n",
        "\n",
        "Aqui o objetivo da classificação é prever se o paciente tem 10 anos de risco de futura doença cardíaca coronariana (ACS). O conjunto de dados fornece informações de mais de 4.000 pacientes residentes da cidade de Framingham, Massachusettse com 15 atributos. \n",
        "\n",
        "A variável objetivo é `TenYearCHD`, *10 year risk of coronary heart disease CHD* (onde “1”, significa “Yes”, “0” significa “No”)\n"
      ]
    },
    {
      "cell_type": "code",
      "metadata": {
        "colab": {
          "base_uri": "https://localhost:8080/",
          "height": 270
        },
        "id": "gJnhfWGxg9OI",
        "outputId": "cb055ac6-71c7-475b-aa5f-26d8f5e41d77"
      },
      "source": [
        "df = pd.read_csv('https://raw.githubusercontent.com/TarekDib03/Analytics/master/Week3%20-%20Logistic%20Regression/Data/framingham.csv')\n",
        "df.head()"
      ],
      "execution_count": null,
      "outputs": [
        {
          "output_type": "execute_result",
          "data": {
            "text/plain": [
              "   male  age  education  currentSmoker  cigsPerDay  BPMeds  prevalentStroke  \\\n",
              "0     1   39        4.0              0         0.0     0.0                0   \n",
              "1     0   46        2.0              0         0.0     0.0                0   \n",
              "2     1   48        1.0              1        20.0     0.0                0   \n",
              "3     0   61        3.0              1        30.0     0.0                0   \n",
              "4     0   46        3.0              1        23.0     0.0                0   \n",
              "\n",
              "   prevalentHyp  diabetes  totChol  sysBP  diaBP    BMI  heartRate  glucose  \\\n",
              "0             0         0    195.0  106.0   70.0  26.97       80.0     77.0   \n",
              "1             0         0    250.0  121.0   81.0  28.73       95.0     76.0   \n",
              "2             0         0    245.0  127.5   80.0  25.34       75.0     70.0   \n",
              "3             1         0    225.0  150.0   95.0  28.58       65.0    103.0   \n",
              "4             0         0    285.0  130.0   84.0  23.10       85.0     85.0   \n",
              "\n",
              "   TenYearCHD  \n",
              "0           0  \n",
              "1           0  \n",
              "2           0  \n",
              "3           1  \n",
              "4           0  "
            ],
            "text/html": [
              "\n",
              "  <div id=\"df-8fec67e3-3d6a-4369-923e-0a70a7e4f3bf\">\n",
              "    <div class=\"colab-df-container\">\n",
              "      <div>\n",
              "<style scoped>\n",
              "    .dataframe tbody tr th:only-of-type {\n",
              "        vertical-align: middle;\n",
              "    }\n",
              "\n",
              "    .dataframe tbody tr th {\n",
              "        vertical-align: top;\n",
              "    }\n",
              "\n",
              "    .dataframe thead th {\n",
              "        text-align: right;\n",
              "    }\n",
              "</style>\n",
              "<table border=\"1\" class=\"dataframe\">\n",
              "  <thead>\n",
              "    <tr style=\"text-align: right;\">\n",
              "      <th></th>\n",
              "      <th>male</th>\n",
              "      <th>age</th>\n",
              "      <th>education</th>\n",
              "      <th>currentSmoker</th>\n",
              "      <th>cigsPerDay</th>\n",
              "      <th>BPMeds</th>\n",
              "      <th>prevalentStroke</th>\n",
              "      <th>prevalentHyp</th>\n",
              "      <th>diabetes</th>\n",
              "      <th>totChol</th>\n",
              "      <th>sysBP</th>\n",
              "      <th>diaBP</th>\n",
              "      <th>BMI</th>\n",
              "      <th>heartRate</th>\n",
              "      <th>glucose</th>\n",
              "      <th>TenYearCHD</th>\n",
              "    </tr>\n",
              "  </thead>\n",
              "  <tbody>\n",
              "    <tr>\n",
              "      <th>0</th>\n",
              "      <td>1</td>\n",
              "      <td>39</td>\n",
              "      <td>4.0</td>\n",
              "      <td>0</td>\n",
              "      <td>0.0</td>\n",
              "      <td>0.0</td>\n",
              "      <td>0</td>\n",
              "      <td>0</td>\n",
              "      <td>0</td>\n",
              "      <td>195.0</td>\n",
              "      <td>106.0</td>\n",
              "      <td>70.0</td>\n",
              "      <td>26.97</td>\n",
              "      <td>80.0</td>\n",
              "      <td>77.0</td>\n",
              "      <td>0</td>\n",
              "    </tr>\n",
              "    <tr>\n",
              "      <th>1</th>\n",
              "      <td>0</td>\n",
              "      <td>46</td>\n",
              "      <td>2.0</td>\n",
              "      <td>0</td>\n",
              "      <td>0.0</td>\n",
              "      <td>0.0</td>\n",
              "      <td>0</td>\n",
              "      <td>0</td>\n",
              "      <td>0</td>\n",
              "      <td>250.0</td>\n",
              "      <td>121.0</td>\n",
              "      <td>81.0</td>\n",
              "      <td>28.73</td>\n",
              "      <td>95.0</td>\n",
              "      <td>76.0</td>\n",
              "      <td>0</td>\n",
              "    </tr>\n",
              "    <tr>\n",
              "      <th>2</th>\n",
              "      <td>1</td>\n",
              "      <td>48</td>\n",
              "      <td>1.0</td>\n",
              "      <td>1</td>\n",
              "      <td>20.0</td>\n",
              "      <td>0.0</td>\n",
              "      <td>0</td>\n",
              "      <td>0</td>\n",
              "      <td>0</td>\n",
              "      <td>245.0</td>\n",
              "      <td>127.5</td>\n",
              "      <td>80.0</td>\n",
              "      <td>25.34</td>\n",
              "      <td>75.0</td>\n",
              "      <td>70.0</td>\n",
              "      <td>0</td>\n",
              "    </tr>\n",
              "    <tr>\n",
              "      <th>3</th>\n",
              "      <td>0</td>\n",
              "      <td>61</td>\n",
              "      <td>3.0</td>\n",
              "      <td>1</td>\n",
              "      <td>30.0</td>\n",
              "      <td>0.0</td>\n",
              "      <td>0</td>\n",
              "      <td>1</td>\n",
              "      <td>0</td>\n",
              "      <td>225.0</td>\n",
              "      <td>150.0</td>\n",
              "      <td>95.0</td>\n",
              "      <td>28.58</td>\n",
              "      <td>65.0</td>\n",
              "      <td>103.0</td>\n",
              "      <td>1</td>\n",
              "    </tr>\n",
              "    <tr>\n",
              "      <th>4</th>\n",
              "      <td>0</td>\n",
              "      <td>46</td>\n",
              "      <td>3.0</td>\n",
              "      <td>1</td>\n",
              "      <td>23.0</td>\n",
              "      <td>0.0</td>\n",
              "      <td>0</td>\n",
              "      <td>0</td>\n",
              "      <td>0</td>\n",
              "      <td>285.0</td>\n",
              "      <td>130.0</td>\n",
              "      <td>84.0</td>\n",
              "      <td>23.10</td>\n",
              "      <td>85.0</td>\n",
              "      <td>85.0</td>\n",
              "      <td>0</td>\n",
              "    </tr>\n",
              "  </tbody>\n",
              "</table>\n",
              "</div>\n",
              "      <button class=\"colab-df-convert\" onclick=\"convertToInteractive('df-8fec67e3-3d6a-4369-923e-0a70a7e4f3bf')\"\n",
              "              title=\"Convert this dataframe to an interactive table.\"\n",
              "              style=\"display:none;\">\n",
              "        \n",
              "  <svg xmlns=\"http://www.w3.org/2000/svg\" height=\"24px\"viewBox=\"0 0 24 24\"\n",
              "       width=\"24px\">\n",
              "    <path d=\"M0 0h24v24H0V0z\" fill=\"none\"/>\n",
              "    <path d=\"M18.56 5.44l.94 2.06.94-2.06 2.06-.94-2.06-.94-.94-2.06-.94 2.06-2.06.94zm-11 1L8.5 8.5l.94-2.06 2.06-.94-2.06-.94L8.5 2.5l-.94 2.06-2.06.94zm10 10l.94 2.06.94-2.06 2.06-.94-2.06-.94-.94-2.06-.94 2.06-2.06.94z\"/><path d=\"M17.41 7.96l-1.37-1.37c-.4-.4-.92-.59-1.43-.59-.52 0-1.04.2-1.43.59L10.3 9.45l-7.72 7.72c-.78.78-.78 2.05 0 2.83L4 21.41c.39.39.9.59 1.41.59.51 0 1.02-.2 1.41-.59l7.78-7.78 2.81-2.81c.8-.78.8-2.07 0-2.86zM5.41 20L4 18.59l7.72-7.72 1.47 1.35L5.41 20z\"/>\n",
              "  </svg>\n",
              "      </button>\n",
              "      \n",
              "  <style>\n",
              "    .colab-df-container {\n",
              "      display:flex;\n",
              "      flex-wrap:wrap;\n",
              "      gap: 12px;\n",
              "    }\n",
              "\n",
              "    .colab-df-convert {\n",
              "      background-color: #E8F0FE;\n",
              "      border: none;\n",
              "      border-radius: 50%;\n",
              "      cursor: pointer;\n",
              "      display: none;\n",
              "      fill: #1967D2;\n",
              "      height: 32px;\n",
              "      padding: 0 0 0 0;\n",
              "      width: 32px;\n",
              "    }\n",
              "\n",
              "    .colab-df-convert:hover {\n",
              "      background-color: #E2EBFA;\n",
              "      box-shadow: 0px 1px 2px rgba(60, 64, 67, 0.3), 0px 1px 3px 1px rgba(60, 64, 67, 0.15);\n",
              "      fill: #174EA6;\n",
              "    }\n",
              "\n",
              "    [theme=dark] .colab-df-convert {\n",
              "      background-color: #3B4455;\n",
              "      fill: #D2E3FC;\n",
              "    }\n",
              "\n",
              "    [theme=dark] .colab-df-convert:hover {\n",
              "      background-color: #434B5C;\n",
              "      box-shadow: 0px 1px 3px 1px rgba(0, 0, 0, 0.15);\n",
              "      filter: drop-shadow(0px 1px 2px rgba(0, 0, 0, 0.3));\n",
              "      fill: #FFFFFF;\n",
              "    }\n",
              "  </style>\n",
              "\n",
              "      <script>\n",
              "        const buttonEl =\n",
              "          document.querySelector('#df-8fec67e3-3d6a-4369-923e-0a70a7e4f3bf button.colab-df-convert');\n",
              "        buttonEl.style.display =\n",
              "          google.colab.kernel.accessAllowed ? 'block' : 'none';\n",
              "\n",
              "        async function convertToInteractive(key) {\n",
              "          const element = document.querySelector('#df-8fec67e3-3d6a-4369-923e-0a70a7e4f3bf');\n",
              "          const dataTable =\n",
              "            await google.colab.kernel.invokeFunction('convertToInteractive',\n",
              "                                                     [key], {});\n",
              "          if (!dataTable) return;\n",
              "\n",
              "          const docLinkHtml = 'Like what you see? Visit the ' +\n",
              "            '<a target=\"_blank\" href=https://colab.research.google.com/notebooks/data_table.ipynb>data table notebook</a>'\n",
              "            + ' to learn more about interactive tables.';\n",
              "          element.innerHTML = '';\n",
              "          dataTable['output_type'] = 'display_data';\n",
              "          await google.colab.output.renderOutput(dataTable, element);\n",
              "          const docLink = document.createElement('div');\n",
              "          docLink.innerHTML = docLinkHtml;\n",
              "          element.appendChild(docLink);\n",
              "        }\n",
              "      </script>\n",
              "    </div>\n",
              "  </div>\n",
              "  "
            ]
          },
          "metadata": {},
          "execution_count": 135
        }
      ]
    },
    {
      "cell_type": "markdown",
      "metadata": {
        "id": "Zp2b3etoryDq"
      },
      "source": [
        "## Preparação dos Dados\n",
        "\n",
        "As variáveis preditoras são todas numéricas e não há, portanto, necessidade do hot encode dos atributos. Há entretanto valores ausentes."
      ]
    },
    {
      "cell_type": "code",
      "metadata": {
        "colab": {
          "base_uri": "https://localhost:8080/"
        },
        "id": "tLTae8Ealdqr",
        "outputId": "25b32b53-73aa-4287-b689-182db1e475fe"
      },
      "source": [
        "df.isnull().sum() / len(df)"
      ],
      "execution_count": null,
      "outputs": [
        {
          "output_type": "execute_result",
          "data": {
            "text/plain": [
              "male               0.000000\n",
              "age                0.000000\n",
              "education          0.024764\n",
              "currentSmoker      0.000000\n",
              "cigsPerDay         0.006840\n",
              "BPMeds             0.012500\n",
              "prevalentStroke    0.000000\n",
              "prevalentHyp       0.000000\n",
              "diabetes           0.000000\n",
              "totChol            0.011792\n",
              "sysBP              0.000000\n",
              "diaBP              0.000000\n",
              "BMI                0.004481\n",
              "heartRate          0.000236\n",
              "glucose            0.091509\n",
              "TenYearCHD         0.000000\n",
              "dtype: float64"
            ]
          },
          "metadata": {},
          "execution_count": 136
        }
      ]
    },
    {
      "cell_type": "markdown",
      "metadata": {
        "id": "OW82YY5csHg8"
      },
      "source": [
        "O percentual é pequeno e assim vamos simplesmente excluir os dados ausentes."
      ]
    },
    {
      "cell_type": "code",
      "metadata": {
        "colab": {
          "base_uri": "https://localhost:8080/"
        },
        "id": "tYPrMrKWlijk",
        "outputId": "e44a5f58-1b27-42f1-f35c-28d2003bfe41"
      },
      "source": [
        "print('Before',len(df))\n",
        "df = df.dropna()\n",
        "print('After',len(df))"
      ],
      "execution_count": null,
      "outputs": [
        {
          "output_type": "stream",
          "name": "stdout",
          "text": [
            "Before 4240\n",
            "After 3658\n"
          ]
        }
      ]
    },
    {
      "cell_type": "markdown",
      "metadata": {
        "id": "Kx7qoyTcs4jt"
      },
      "source": [
        "## Aplicando o Modelo Logístico"
      ]
    },
    {
      "cell_type": "markdown",
      "metadata": {
        "id": "ecHGTs1KsRZD"
      },
      "source": [
        "Aplicamos o modelo ajustando agora as entradas `X` e `y` para o modelo. O `max_iter` do regressor também foi ajustado para $10000$ uma vez que o conjunto de dados agora é maior e um maior número de iterações será necessário para convergência do parâmetros."
      ]
    },
    {
      "cell_type": "code",
      "metadata": {
        "colab": {
          "base_uri": "https://localhost:8080/"
        },
        "id": "GNU4IEq5mCmy",
        "outputId": "dbe3b7b6-5640-40a3-bcc6-d38d9fd3bef4"
      },
      "source": [
        "from sklearn.linear_model import LogisticRegression \n",
        "from sklearn.model_selection import train_test_split\n",
        "\n",
        "X = df.drop(columns=['TenYearCHD'])\n",
        "y = df.TenYearCHD\n",
        "\n",
        "X_train, X_test, y_train, y_test = train_test_split(X, y, stratify=y, test_size=0.3, random_state=123)\n",
        "\n",
        "clf = LogisticRegression(max_iter=10000)\n",
        "\n",
        "clf.fit(X_train,y_train)\n",
        "\n",
        "y_pred = clf.predict(X_test)\n",
        "\n",
        "print( y_pred[0:10], '...' )\n",
        "print( clf.score(X,y) )"
      ],
      "execution_count": null,
      "outputs": [
        {
          "output_type": "stream",
          "name": "stdout",
          "text": [
            "[0 0 1 0 0 0 0 0 0 0] ...\n",
            "0.8537452159650082\n"
          ]
        }
      ]
    },
    {
      "cell_type": "markdown",
      "metadata": {
        "id": "9YwBUR-ys8C1"
      },
      "source": [
        "## Predição de Novos Casos"
      ]
    },
    {
      "cell_type": "markdown",
      "metadata": {
        "id": "NIAMld32qhPs"
      },
      "source": [
        "Se considerarmos 0.85 um bom resultado podemos então aplicar o modelo para novos casos. Por exemplo, podemos fazer predição para pacientes homens e mulheres hipotéticos em que todos os indicadores estejam no percentil 0.75."
      ]
    },
    {
      "cell_type": "code",
      "metadata": {
        "colab": {
          "base_uri": "https://localhost:8080/",
          "height": 176
        },
        "id": "q-OzW40DpeDk",
        "outputId": "19fb4f13-5d66-422a-83fe-f7b0b19a8fd8"
      },
      "source": [
        "X_new = pd.DataFrame( df.drop(columns=['TenYearCHD']).groupby('male').quantile(0.75) ).reset_index()\n",
        "X_new"
      ],
      "execution_count": null,
      "outputs": [
        {
          "output_type": "execute_result",
          "data": {
            "text/plain": [
              "   male   age  education  currentSmoker  cigsPerDay  BPMeds  prevalentStroke  \\\n",
              "0     0  56.0        3.0            1.0        10.0     0.0              0.0   \n",
              "1     1  56.0        3.0            1.0        20.0     0.0              0.0   \n",
              "\n",
              "   prevalentHyp  diabetes  totChol  sysBP  diaBP    BMI  heartRate  glucose  \n",
              "0           1.0       0.0    268.0  146.0   89.0  27.71       85.0     86.0  \n",
              "1           1.0       0.0    259.0  141.0   90.0  28.30       80.0     87.0  "
            ],
            "text/html": [
              "\n",
              "  <div id=\"df-9029b31f-5a4d-46e3-838d-5981db70807f\">\n",
              "    <div class=\"colab-df-container\">\n",
              "      <div>\n",
              "<style scoped>\n",
              "    .dataframe tbody tr th:only-of-type {\n",
              "        vertical-align: middle;\n",
              "    }\n",
              "\n",
              "    .dataframe tbody tr th {\n",
              "        vertical-align: top;\n",
              "    }\n",
              "\n",
              "    .dataframe thead th {\n",
              "        text-align: right;\n",
              "    }\n",
              "</style>\n",
              "<table border=\"1\" class=\"dataframe\">\n",
              "  <thead>\n",
              "    <tr style=\"text-align: right;\">\n",
              "      <th></th>\n",
              "      <th>male</th>\n",
              "      <th>age</th>\n",
              "      <th>education</th>\n",
              "      <th>currentSmoker</th>\n",
              "      <th>cigsPerDay</th>\n",
              "      <th>BPMeds</th>\n",
              "      <th>prevalentStroke</th>\n",
              "      <th>prevalentHyp</th>\n",
              "      <th>diabetes</th>\n",
              "      <th>totChol</th>\n",
              "      <th>sysBP</th>\n",
              "      <th>diaBP</th>\n",
              "      <th>BMI</th>\n",
              "      <th>heartRate</th>\n",
              "      <th>glucose</th>\n",
              "    </tr>\n",
              "  </thead>\n",
              "  <tbody>\n",
              "    <tr>\n",
              "      <th>0</th>\n",
              "      <td>0</td>\n",
              "      <td>56.0</td>\n",
              "      <td>3.0</td>\n",
              "      <td>1.0</td>\n",
              "      <td>10.0</td>\n",
              "      <td>0.0</td>\n",
              "      <td>0.0</td>\n",
              "      <td>1.0</td>\n",
              "      <td>0.0</td>\n",
              "      <td>268.0</td>\n",
              "      <td>146.0</td>\n",
              "      <td>89.0</td>\n",
              "      <td>27.71</td>\n",
              "      <td>85.0</td>\n",
              "      <td>86.0</td>\n",
              "    </tr>\n",
              "    <tr>\n",
              "      <th>1</th>\n",
              "      <td>1</td>\n",
              "      <td>56.0</td>\n",
              "      <td>3.0</td>\n",
              "      <td>1.0</td>\n",
              "      <td>20.0</td>\n",
              "      <td>0.0</td>\n",
              "      <td>0.0</td>\n",
              "      <td>1.0</td>\n",
              "      <td>0.0</td>\n",
              "      <td>259.0</td>\n",
              "      <td>141.0</td>\n",
              "      <td>90.0</td>\n",
              "      <td>28.30</td>\n",
              "      <td>80.0</td>\n",
              "      <td>87.0</td>\n",
              "    </tr>\n",
              "  </tbody>\n",
              "</table>\n",
              "</div>\n",
              "      <button class=\"colab-df-convert\" onclick=\"convertToInteractive('df-9029b31f-5a4d-46e3-838d-5981db70807f')\"\n",
              "              title=\"Convert this dataframe to an interactive table.\"\n",
              "              style=\"display:none;\">\n",
              "        \n",
              "  <svg xmlns=\"http://www.w3.org/2000/svg\" height=\"24px\"viewBox=\"0 0 24 24\"\n",
              "       width=\"24px\">\n",
              "    <path d=\"M0 0h24v24H0V0z\" fill=\"none\"/>\n",
              "    <path d=\"M18.56 5.44l.94 2.06.94-2.06 2.06-.94-2.06-.94-.94-2.06-.94 2.06-2.06.94zm-11 1L8.5 8.5l.94-2.06 2.06-.94-2.06-.94L8.5 2.5l-.94 2.06-2.06.94zm10 10l.94 2.06.94-2.06 2.06-.94-2.06-.94-.94-2.06-.94 2.06-2.06.94z\"/><path d=\"M17.41 7.96l-1.37-1.37c-.4-.4-.92-.59-1.43-.59-.52 0-1.04.2-1.43.59L10.3 9.45l-7.72 7.72c-.78.78-.78 2.05 0 2.83L4 21.41c.39.39.9.59 1.41.59.51 0 1.02-.2 1.41-.59l7.78-7.78 2.81-2.81c.8-.78.8-2.07 0-2.86zM5.41 20L4 18.59l7.72-7.72 1.47 1.35L5.41 20z\"/>\n",
              "  </svg>\n",
              "      </button>\n",
              "      \n",
              "  <style>\n",
              "    .colab-df-container {\n",
              "      display:flex;\n",
              "      flex-wrap:wrap;\n",
              "      gap: 12px;\n",
              "    }\n",
              "\n",
              "    .colab-df-convert {\n",
              "      background-color: #E8F0FE;\n",
              "      border: none;\n",
              "      border-radius: 50%;\n",
              "      cursor: pointer;\n",
              "      display: none;\n",
              "      fill: #1967D2;\n",
              "      height: 32px;\n",
              "      padding: 0 0 0 0;\n",
              "      width: 32px;\n",
              "    }\n",
              "\n",
              "    .colab-df-convert:hover {\n",
              "      background-color: #E2EBFA;\n",
              "      box-shadow: 0px 1px 2px rgba(60, 64, 67, 0.3), 0px 1px 3px 1px rgba(60, 64, 67, 0.15);\n",
              "      fill: #174EA6;\n",
              "    }\n",
              "\n",
              "    [theme=dark] .colab-df-convert {\n",
              "      background-color: #3B4455;\n",
              "      fill: #D2E3FC;\n",
              "    }\n",
              "\n",
              "    [theme=dark] .colab-df-convert:hover {\n",
              "      background-color: #434B5C;\n",
              "      box-shadow: 0px 1px 3px 1px rgba(0, 0, 0, 0.15);\n",
              "      filter: drop-shadow(0px 1px 2px rgba(0, 0, 0, 0.3));\n",
              "      fill: #FFFFFF;\n",
              "    }\n",
              "  </style>\n",
              "\n",
              "      <script>\n",
              "        const buttonEl =\n",
              "          document.querySelector('#df-9029b31f-5a4d-46e3-838d-5981db70807f button.colab-df-convert');\n",
              "        buttonEl.style.display =\n",
              "          google.colab.kernel.accessAllowed ? 'block' : 'none';\n",
              "\n",
              "        async function convertToInteractive(key) {\n",
              "          const element = document.querySelector('#df-9029b31f-5a4d-46e3-838d-5981db70807f');\n",
              "          const dataTable =\n",
              "            await google.colab.kernel.invokeFunction('convertToInteractive',\n",
              "                                                     [key], {});\n",
              "          if (!dataTable) return;\n",
              "\n",
              "          const docLinkHtml = 'Like what you see? Visit the ' +\n",
              "            '<a target=\"_blank\" href=https://colab.research.google.com/notebooks/data_table.ipynb>data table notebook</a>'\n",
              "            + ' to learn more about interactive tables.';\n",
              "          element.innerHTML = '';\n",
              "          dataTable['output_type'] = 'display_data';\n",
              "          await google.colab.output.renderOutput(dataTable, element);\n",
              "          const docLink = document.createElement('div');\n",
              "          docLink.innerHTML = docLinkHtml;\n",
              "          element.appendChild(docLink);\n",
              "        }\n",
              "      </script>\n",
              "    </div>\n",
              "  </div>\n",
              "  "
            ]
          },
          "metadata": {},
          "execution_count": 139
        }
      ]
    },
    {
      "cell_type": "code",
      "metadata": {
        "colab": {
          "base_uri": "https://localhost:8080/"
        },
        "id": "1_fKUnfDnNSi",
        "outputId": "a1088a41-4085-4125-a662-84e66f547285"
      },
      "source": [
        "clf.predict(X_new)"
      ],
      "execution_count": null,
      "outputs": [
        {
          "output_type": "execute_result",
          "data": {
            "text/plain": [
              "array([0, 0])"
            ]
          },
          "metadata": {},
          "execution_count": 140
        }
      ]
    },
    {
      "cell_type": "markdown",
      "metadata": {
        "id": "RmbWeXxLrK4M"
      },
      "source": [
        "Surpreendentemente esses pacientes não apresentam risco segundo nosso modelo e você pode verificar outros percentis, como o percentil 0.9 em que já estimamos o risco para pacientes do sexo masculino."
      ]
    },
    {
      "cell_type": "code",
      "metadata": {
        "colab": {
          "base_uri": "https://localhost:8080/"
        },
        "id": "TiRFmdVcrF_D",
        "outputId": "fd6148f9-a6e7-448a-83ce-217e7adbc35e"
      },
      "source": [
        "X_new = pd.DataFrame( df.drop(columns=['TenYearCHD']).groupby('male').quantile(0.90) ).reset_index()\n",
        "clf.predict(X_new)"
      ],
      "execution_count": null,
      "outputs": [
        {
          "output_type": "execute_result",
          "data": {
            "text/plain": [
              "array([0, 0])"
            ]
          },
          "metadata": {},
          "execution_count": 141
        }
      ]
    },
    {
      "cell_type": "markdown",
      "metadata": {
        "id": "smetE25WtWIz"
      },
      "source": [
        "# Outras Métricas: Matriz de Confusão e Classification Report\n",
        "\n",
        "O resultado de 0.85 parece à primeira vista um resultado bastante satisfatório. Mas uma análise mais detalhada de outras métricas irá mostrar que esse resultado não é tão bom quanto parece. Algumas dessas métricas encontram-se abaixo e você vai ver em detalhe cada uma delas.\n",
        "\n"
      ]
    },
    {
      "cell_type": "code",
      "metadata": {
        "colab": {
          "base_uri": "https://localhost:8080/"
        },
        "id": "grPiq_9Vtd-p",
        "outputId": "bebf2a9c-8178-438d-e6d7-7f819cfac31b"
      },
      "source": [
        "from sklearn.metrics import confusion_matrix\n",
        "from sklearn.metrics import accuracy_score\n",
        "from sklearn.metrics import classification_report\n",
        "\n",
        "cm = confusion_matrix(y_test, y_pred, labels=[1,0])\n",
        "print('\\nMatriz de Confusão:\\n')\n",
        "print(cm)\n",
        "    \n",
        "accuracy = accuracy_score(y_test, y_pred)\n",
        "print('\\nScore de Acuracidade:\\n')\n",
        "print(accuracy)\n",
        "\n",
        "print('\\nClassification Report:\\n')\n",
        "print(classification_report(y_test, y_pred, labels=[1,0]))"
      ],
      "execution_count": null,
      "outputs": [
        {
          "output_type": "stream",
          "name": "stdout",
          "text": [
            "\n",
            "Matriz de Confusão:\n",
            "\n",
            "[[ 14 153]\n",
            " [ 10 921]]\n",
            "\n",
            "Score de Acuracidade:\n",
            "\n",
            "0.8515482695810564\n",
            "\n",
            "Classification Report:\n",
            "\n",
            "              precision    recall  f1-score   support\n",
            "\n",
            "           1       0.58      0.08      0.15       167\n",
            "           0       0.86      0.99      0.92       931\n",
            "\n",
            "    accuracy                           0.85      1098\n",
            "   macro avg       0.72      0.54      0.53      1098\n",
            "weighted avg       0.82      0.85      0.80      1098\n",
            "\n"
          ]
        }
      ]
    },
    {
      "cell_type": "markdown",
      "metadata": {
        "id": "dfxUoZKf8Et3"
      },
      "source": [
        "## Matriz de Confusão\n",
        "\n",
        "Uma matriz de confusão é uma matriz quadrada, $n \\times n$ para avaliar o desempenho de modelos de classificação e onde $n$ é o número de classes objetivo. Lembrando que avaliamos o modelo sobre os resultados no conjunto de teste, a matriz compara os valores reais (conjunto de teste) com aqueles estimados pelo modelo. Ela permite uma visão mais ampla do desempenho do modelo, que a simples medida de acuracidade, pois permite identificar os tipos de erros que o modelo está cometendo.\n",
        "\n",
        "Em problema de classificação binária, como no nosso exemplo anterior, a matriz de confusão é uma matriz $2 \\times 2$ com o seguinte formato:\n",
        "\n",
        "\n"
      ]
    },
    {
      "cell_type": "markdown",
      "metadata": {
        "id": "4lC0xSTIb52T"
      },
      "source": [
        "![imagem](https://github.com/Rogerio-mack/BIG_DATA_Analytics_Mineracao_e_Analise_de_Dados/blob/main/figuras/matriz_de_confusao.png?raw=true) "
      ]
    },
    {
      "cell_type": "markdown",
      "metadata": {
        "id": "RHKPV-aCUGd5"
      },
      "source": [
        "A ordem dos labels, se não especificada será a ordem alfabética. Como no nosso caso '1' significa o caso positivo, isto é, a presença da doença cardíaca coronariana, colocamos a ordem [1,0] que será mais adequada para nossos propósitos.\n"
      ]
    },
    {
      "cell_type": "code",
      "metadata": {
        "colab": {
          "base_uri": "https://localhost:8080/"
        },
        "id": "lhcEoi8GKl2v",
        "outputId": "c490457d-80a5-43fe-a952-b1f78216be79"
      },
      "source": [
        "cm = confusion_matrix(y_test, y_pred, labels=[1,0])\n",
        "print('\\nMatriz de Confusão:\\n')\n",
        "\n",
        "print('\\t\\t\\t    y_pred \\n')\n",
        "print('\\t\\t\\t 1 \\t 0')\n",
        "print('\\t\\t' + 29*'-')\n",
        "print('      y_test \\t 1   | \\t ' + str(cm[0,0]) + '\\t' + str(cm[0,1]) + '   |  ' + str(cm[0,0] + cm[0,1]))\n",
        "print('\\t\\t 0   | \\t ' + str(cm[1,0]) + '\\t' + str(cm[1,1]) + '   |  ' + str(cm[1,0] + cm[1,1]))\n",
        "print('\\t\\t' + 29*'-')\n",
        "print('\\t\\t     | \\t ' + str(cm[0,0] + cm[1,0]) + '\\t' + str(cm[0,1] + cm[1,1]) + '  |  ')"
      ],
      "execution_count": null,
      "outputs": [
        {
          "output_type": "stream",
          "name": "stdout",
          "text": [
            "\n",
            "Matriz de Confusão:\n",
            "\n",
            "\t\t\t    y_pred \n",
            "\n",
            "\t\t\t 1 \t 0\n",
            "\t\t-----------------------------\n",
            "      y_test \t 1   | \t 14\t153   |  167\n",
            "\t\t 0   | \t 10\t921   |  931\n",
            "\t\t-----------------------------\n",
            "\t\t     | \t 24\t1074  |  \n"
          ]
        }
      ]
    },
    {
      "cell_type": "markdown",
      "metadata": {
        "id": "vZDYB6atU5aR"
      },
      "source": [
        "É um bom exercício para entender essa matriz verificar alguns de seus valores, como por exemplo a soma das linhas e colunas: "
      ]
    },
    {
      "cell_type": "code",
      "metadata": {
        "colab": {
          "base_uri": "https://localhost:8080/"
        },
        "id": "QsFBhOLUN4zY",
        "outputId": "e2fd16af-d266-488c-e0ff-277f5851720d"
      },
      "source": [
        "print( (y_test == 1).sum(), (y_test == 0).sum() )\n",
        "print( (y_pred == 1).sum(), (y_pred == 0).sum() )"
      ],
      "execution_count": null,
      "outputs": [
        {
          "output_type": "stream",
          "name": "stdout",
          "text": [
            "167 931\n",
            "24 1074\n"
          ]
        }
      ]
    },
    {
      "cell_type": "markdown",
      "metadata": {
        "id": "xCdQGQEOVPzC"
      },
      "source": [
        "De fato 167, 931 (soma das linhas) correspondem às quantidades de elementos reais classes 1 e 0 em `y_test`. Já os valores 25 e 1073 (soma das colunas) correspondem às quantidades de elementos previstos nas classes 1 e 0 em `y_pred`. \n",
        "\n",
        "E você ainda pode verificar as instâncias classificadas corretamente para cada classe, que são os elementos da diagonal em que coincidem das classes reais e previstas pelo modelo."
      ]
    },
    {
      "cell_type": "code",
      "metadata": {
        "colab": {
          "base_uri": "https://localhost:8080/"
        },
        "id": "x9hxF0SBO28o",
        "outputId": "f0a28827-50a6-4ece-8a8b-992b596bfd63"
      },
      "source": [
        "print( ( y_test + y_pred == 2 ).sum() )\n",
        "print( ( y_test + y_pred == 0 ).sum() )"
      ],
      "execution_count": null,
      "outputs": [
        {
          "output_type": "stream",
          "name": "stdout",
          "text": [
            "14\n",
            "921\n"
          ]
        }
      ]
    },
    {
      "cell_type": "markdown",
      "metadata": {
        "id": "MUydkZ5hWw4R"
      },
      "source": [
        "Dessa matriz ainda saem os valores,\n",
        "\n",
        "* Verdadeiro positivo (TP), em que valor previsto corresponde ao valor real, isto é o valor real era positivo e o modelo previu um valor positivo\n",
        "\n",
        "* Verdadeiro negativo (TN), em que o valor real era negativo e o modelo previu um valor negativo também corretamente\n",
        "\n",
        "* Falso Positivo (FP), Ou **Erro Tipo 1**, em que o valor real era negativo, mas o modelo previu um valor positivo\n",
        "\n",
        "* Falso negativo (FN), Ou **Erro tipo 2**, em que o valor real era positivo, mas o modelo previu um valor negativo\n",
        "\n",
        "Esses valores já permitem você identificar que nosso modelo com 0.85 de acurácia já não parece tão bom e para isso basta você notar o número de falsos negativos, *erro tipo 2*. E no caso esse é o erro mais grave, pois dizemos a uma pessoa que ela não está doente quando ela realmente está!\n",
        "\n",
        "Que dão origem a dezenas de métricas e nos deteremos aqui apenas nas mais importantes."
      ]
    },
    {
      "cell_type": "markdown",
      "metadata": {
        "id": "zlgO_DHUcqTi"
      },
      "source": [
        "## Acuracidade\n",
        "\n",
        "Você já conhece essa métrica e apenas vamos verificar que, como outras métricas, ela pode ser obtida diretamente da matriz de confusão: \n",
        "\n",
        "$$ Accuracy = \\frac{TP+TN}{TP+FP+TN+FN} $$\n",
        "\n",
        "Note que $TP+TN$ é a soma dos valores diagonais, ou o total de acertos, e $TP+FP+TN+FN$ é simplesmente a soma de todos valores, ou o total de casos.\n",
        "\n",
        "$$ Accuracy = \\frac{Total de Acertos}{Total de Casos} $$"
      ]
    },
    {
      "cell_type": "code",
      "metadata": {
        "colab": {
          "base_uri": "https://localhost:8080/"
        },
        "id": "-pf8CO618ied",
        "outputId": "8fb9c26a-978a-473e-921b-a9a2315be827"
      },
      "source": [
        "cm = confusion_matrix(y_test, y_pred, labels=[1,0])\n",
        "print('\\nMatriz de Confusão:\\n')\n",
        "print(cm)\n",
        "\n",
        "TP, FN, FP, TN = cm.ravel()\n",
        "print('\\nTP = ', TP, '\\nFP = ', FP, '\\nFN = ', FN, '\\nTN = ', TN)"
      ],
      "execution_count": null,
      "outputs": [
        {
          "output_type": "stream",
          "name": "stdout",
          "text": [
            "\n",
            "Matriz de Confusão:\n",
            "\n",
            "[[ 14 153]\n",
            " [ 10 921]]\n",
            "\n",
            "TP =  14 \n",
            "FP =  10 \n",
            "FN =  153 \n",
            "TN =  921\n"
          ]
        }
      ]
    },
    {
      "cell_type": "code",
      "metadata": {
        "colab": {
          "base_uri": "https://localhost:8080/"
        },
        "id": "YwY-2kc3ByxO",
        "outputId": "182e2a33-c3f8-4cd6-9cfc-125c139ea820"
      },
      "source": [
        "Accuracy = (TP+TN)/(TP+FP+TN+FN)\n",
        "Accuracy"
      ],
      "execution_count": null,
      "outputs": [
        {
          "output_type": "execute_result",
          "data": {
            "text/plain": [
              "0.8515482695810564"
            ]
          },
          "metadata": {},
          "execution_count": 147
        }
      ]
    },
    {
      "cell_type": "markdown",
      "metadata": {
        "id": "4QC6tXbpEa1-"
      },
      "source": [
        "## Precisão e *Recall*\n",
        "\n",
        "Outras duas métricas importante são a Precisão e o *Recall*,\n",
        "\n",
        "$$ Precision = \\frac{TP}{TP + FP} $$\n",
        "\n",
        "e\n",
        "\n",
        "$$ Recall = \\frac{TP}{TP + FN} $$\n",
        "\n",
        "\n",
        "Mas o que de fato essas métricas nos dizem? Você dificilmente irá guardar essas fórmulas. Mas é mais importante, e talvez até mais fácil, entender o conceito por trás dessas métricas o que já nos dá um modo direto de calcular os seus valores. A Precisão é um valor que, dados todos elementos previstos uma classe, quantos foram previstos corretamente. Note que é a exata noção de precisão que temos. \n",
        "O *Recall* (Revocação, ou Sensibilidade) por outro lado nos diz quantos casos de uma determinada classe foram corretamente previstos. E você pode pensar que precisamos fazer uma nova busca (*recall*) para os elementos da classe que ainda não foram identificados! \n"
      ]
    },
    {
      "cell_type": "code",
      "metadata": {
        "colab": {
          "base_uri": "https://localhost:8080/"
        },
        "id": "_NcQrBWV9j5E",
        "outputId": "4195a402-cd40-4034-f998-d1129a2b825f"
      },
      "source": [
        "Precision = TP/(TP + FP)\n",
        "Precision"
      ],
      "execution_count": null,
      "outputs": [
        {
          "output_type": "execute_result",
          "data": {
            "text/plain": [
              "0.5833333333333334"
            ]
          },
          "metadata": {},
          "execution_count": 152
        }
      ]
    },
    {
      "cell_type": "code",
      "metadata": {
        "colab": {
          "base_uri": "https://localhost:8080/"
        },
        "id": "dBGd1F9-98mN",
        "outputId": "eb65fa63-945c-4917-e4d9-04e40cb442e6"
      },
      "source": [
        "Recall = TP/(TP + FN)\n",
        "Recall"
      ],
      "execution_count": null,
      "outputs": [
        {
          "output_type": "execute_result",
          "data": {
            "text/plain": [
              "0.08383233532934131"
            ]
          },
          "metadata": {},
          "execution_count": 153
        }
      ]
    },
    {
      "cell_type": "markdown",
      "metadata": {
        "id": "WJlwHc9_gHAE"
      },
      "source": [
        "Os valores acima são os valores para a classe 1, e esses mesmos valores você pode observar no `classification_report` do `scikit-learn`. \n",
        "\n",
        "A última métrica é o F1-score que pode ser entendido como uma média harmônica dos valores de precisão e recall:\n",
        "\n",
        "$$ F1-score = \\frac{2}{1/Recall + 1/Precision}$$\n",
        "\n",
        "Na prática, quando tentamos aumentar a precisão do nosso modelo, o recall diminui e vice-versa. A pontuação F1 permite capturar ambas as tendências em um único valor e, por isso é bastante empregada sendo seu valor máximo quanto a precisão e o recall são iguais.\n",
        "\n"
      ]
    },
    {
      "cell_type": "code",
      "metadata": {
        "colab": {
          "base_uri": "https://localhost:8080/"
        },
        "id": "dZYFh-TzAQ1O",
        "outputId": "76422334-c9f5-4d9a-82c8-f8850a12e369"
      },
      "source": [
        "F1_score = 2 / ( (1/Recall) + (1/Precision) )\n",
        "F1_score"
      ],
      "execution_count": null,
      "outputs": [
        {
          "output_type": "execute_result",
          "data": {
            "text/plain": [
              "0.14659685863874347"
            ]
          },
          "metadata": {},
          "execution_count": 150
        }
      ]
    },
    {
      "cell_type": "markdown",
      "metadata": {
        "id": "sLbQRZrWhzMD"
      },
      "source": [
        "## Classification Report"
      ]
    },
    {
      "cell_type": "markdown",
      "metadata": {
        "id": "b3gt658TheeV"
      },
      "source": [
        "Todos  conceitos acima são importantes para entendermos as métricas, mas todas essas métricas são mais facilmente obtidas no `classification_report`."
      ]
    },
    {
      "cell_type": "code",
      "metadata": {
        "colab": {
          "base_uri": "https://localhost:8080/"
        },
        "id": "IoUMH-ZDh5Jt",
        "outputId": "295b2bcb-0fa9-40c0-dc2c-072cdcd13491"
      },
      "source": [
        "print('\\nClassification Report:\\n')\n",
        "print(classification_report(y_test, y_pred, labels=[1,0]))"
      ],
      "execution_count": null,
      "outputs": [
        {
          "output_type": "stream",
          "name": "stdout",
          "text": [
            "\n",
            "Classification Report:\n",
            "\n",
            "              precision    recall  f1-score   support\n",
            "\n",
            "           1       0.58      0.08      0.15       167\n",
            "           0       0.86      0.99      0.92       931\n",
            "\n",
            "    accuracy                           0.85      1098\n",
            "   macro avg       0.72      0.54      0.53      1098\n",
            "weighted avg       0.82      0.85      0.80      1098\n",
            "\n"
          ]
        }
      ]
    },
    {
      "cell_type": "markdown",
      "metadata": {
        "id": "tXwvzB1ah9Lc"
      },
      "source": [
        "Além das métricas que já discutimos você encontra os valores de suporte, que nada mais são que as quantidades de casos de cada classe. Esse valor é importante para identificarmos classes desbalanceadas e são empregados para o cálculo das médias ponderadas das métricas `weighted avg`. O `macro avg`, por outro lado, é apenas a média das métricas de todas as classes de dados. "
      ]
    },
    {
      "cell_type": "markdown",
      "metadata": {
        "id": "6nSsSBO2ipYz"
      },
      "source": [
        "## Análise Final\n",
        "\n",
        "Como você pode ver, apesar da acuracidade de $0.85$ do nosso modelo, ele acerta apenas pouco mais que uma moeda ($0.5$ é são as chances de cara ou coroa),  $0.56$, dos casos positivos de doença. Além disso apenas 0.08 dos casos de doença foram identificados pelo modelo. Esses dois valores se refletem também baixo F1-score médio desse modelo. \n",
        "\n",
        "Dados com classes desbalanceadas como esse (são somente 167 elementos da classe 1 para 931 casos da classe 0) são bastante comuns e casos até bastante mais desbalanceados, com 1/100 ou 2/100, nos casos de *churn de clientes*, *fraude de transações* ou mesmo diagnósticos de doenças graves, e em todos esses casos é uma felicidade que a classe de maior risco seja realmente bastante menor. Mas para o aprendizado de máquina isso é um grande problema pois permite atingirmos facilmente uma acuracidade geral alta apesar do mal desempenho do modelo.\n",
        "\n",
        "\n",
        "\n",
        "\n"
      ]
    },
    {
      "cell_type": "markdown",
      "metadata": {
        "id": "j0HWxkjLlqPl"
      },
      "source": [
        "## Um Caso Trivial\n",
        "\n",
        "O exemplo abaixo ilustra bem o problema de classes desbalanceadas,\n",
        "\n",
        "| Real/Pred | Maligno | Benigno |\n",
        "|-|-|-|\n",
        "| Maligno | 2 | 3 |\n",
        "| Benigno | 0 | 95 |\n",
        "\n",
        "O modelo tem 0.97 de acuracidade, mas falha na maior parte dos casos na detecção de tumores malignos. Felizmente as amostras de tumores malignos é bastante menor que os casos benignos. Mas desse modo, mesmo um modelo trivial que classifica-se *qualquer* caso como benigno teria 0.95 de acerto!\n"
      ]
    },
    {
      "cell_type": "markdown",
      "metadata": {
        "id": "oO3RnKjR44_T"
      },
      "source": [
        "# Síntese\n",
        "\n",
        "Nesta trilha aprendeu alguns retomamos os problemas de aprendizado supervisionado, de regressão e classificação, para entender de modo geral como podemos empregar esses modelos com a biblioteca `scikit-learn` e você pode entender como instanciar um estimador, aplicar o treinamento, e fazer predições e medir o desempenho dos modelos obtidos. \n",
        "\n",
        "Você aprendeu também sobre o Dilema Viés-Variância, e uma regra básica para buscarmos evitar o sobreajuste dos modelos dividindo o conjunto inicial de dados em dados para treinamento e teste. A partir daí verificamos algumas das métricas básicas para medir o desempenho dos modelos como Matriz de Confusão, Precisão, *Recall* e *F1-score*. \n",
        "\n",
        "É importante que você saiba que ainda existem muitas outras técnicas e métricas envolvendo o desempenho dos modelos que não tratamos aqui, como a curva ROC (Receiver Operating Characteristic Curve), uso da validação cruzada (Cross Validation), Curva de Aprendizado ou Regularização. Isso permite você entender que a avaliação e obtenção de desempenho dos modelos não é uma tarefa fácil e voltaremos em alguns desses pontos mais adiante. \n"
      ]
    },
    {
      "cell_type": "markdown",
      "metadata": {
        "id": "k4noMRT_YUd7"
      },
      "source": [
        "# Para Saber Mais\n",
        "\n",
        "\n",
        "* Quer conhecer outras métricas obtidas a partir da Matriz de Confusão? São dezenas... rs. Acesse então **Precision and Recall** https://en.wikipedia.org/wiki/Precision_and_recall e **Confusion Matrix** https://en.wikipedia.org/wiki/Confusion_matrix e aproveite para ver outras referências nessas páginas.\n",
        "\n",
        "* Você saberia aplicar os conceitos de Precisão e Recall quando temos mais de duas classes para a variável objetivo? Pense um pouco, essa não é uma pergunta simples. Depois acesse **METRICS FOR MULTI-CLASS CLASSIFICATION: AN OVERVIEW** em https://arxiv.org/pdf/2008.05756.pdf, ou faça uma pesquisa na internet por exemplos desse tópico.  \n",
        "\n",
        "* Não estudamos aqui a curva ROC (Receiver Operating Characteristic Curve), mas esse é um recurso que muitas vezes aparece na avaliação de modelos de classificação. Embora bastante sintético este artigo **Classification: ROC Curve and AUC**, disponível em https://developers.google.com/machine-learning/crash-course/classification/roc-and-auc é uma boa introdução a Curva ROC e é uma oportinidade também de você acessar o **Machine Learning Crash Course** da Google que traz vários temas com uma abordagem bastante interessante.\n",
        "\n",
        "* Acesse o Livro Digital Larose, et. al. (2019) **Data Science Using Python and R**, **E-book disponível na Biblioteca do Mackenzie**. O Capítulo 7 é todo dedicado á avaliação de modelos.\n",
        "\n",
        "* Esse é um tema bastante avançado, mas se você tiver interesse, pode entender o que é a Regularização de Modelos, uma técnica para se evitar o sobreajuste dos modelos durante o aprendizado, acessando o **Capítulo 5. Regressão e Regularização de Modelos** em Deep Learning I dispoível em: https://github.com/Rogerio-mack/Deep-Learning-I/blob/main/T5.ipynb"
      ]
    },
    {
      "cell_type": "markdown",
      "metadata": {
        "id": "fa24d435"
      },
      "source": [
        "# Referências"
      ]
    },
    {
      "cell_type": "markdown",
      "metadata": {
        "id": "zlJfWteFyhFy"
      },
      "source": [
        "Larose, Chantal D.; Larose, Daniel T. **Data Science Using Python and R** Hoboken: Wiley, c2019. E-book (259 p.) (Wiley Series on Methods and Applications in Data Mining Ser.). ISBN 9781119526834 (electronic bk.). Disponível em: https://www3.mackenzie.br/biblioteca_virtual/index.php?tipoBiblio=ebookcentral&flashObg=n\n",
        "\n",
        "Kotu, Vijay; Deshpande, Balachandre **Data Science: concepts and practice**. 2nd ed. Cambridge, [England]: Morgan Kaufmann, c2019. E-book (570 p.) ISBN 9780128147627 (electronic bk.). Disponível em: http://pergamum.mackenzie.br:8080/pergamumweb/vinculos/00003c/00003cef.jpg.\n",
        "\n",
        "Jake VanderPlas. **Python Data Science Handbook**  O'Reilly Media, Inc. (2016). ISBN: 9781491912058. Disponível em: https://jakevdp.github.io/PythonDataScienceHandbook/. Acesso: 06 de Novembro de 2021.\n",
        "\n",
        "___. **An introduction to machine learning with scikit-learn** Disponível em: https://scikit-learn.org/stable/tutorial/basic/tutorial.html Acesso em: 06 de Novembro de 2021.\n",
        "\n",
        "___. **scikit-learn: machine learning in Python** Disponível em: http://scipy-lectures.org/packages/scikit-learn/index.html Acesso em: 06 de Novembro de 2021."
      ]
    }
  ]
}